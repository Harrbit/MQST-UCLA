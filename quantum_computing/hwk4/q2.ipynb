version https://git-lfs.github.com/spec/v1
oid sha256:3393d23578a805b2dc7b7dd81e49cb13ecf708c1af408e5988a59a79d0b9154c
size 445173
