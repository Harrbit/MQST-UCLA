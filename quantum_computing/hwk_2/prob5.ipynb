version https://git-lfs.github.com/spec/v1
oid sha256:222b471f862ded15ccf4dde20ccbfb0d4b8f33955407a4c84f4932daf7659923
size 42167
