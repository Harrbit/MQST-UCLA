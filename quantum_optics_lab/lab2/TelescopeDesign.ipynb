version https://git-lfs.github.com/spec/v1
oid sha256:37b4f610105a9b3275bb0cf2d2f8db8e3628d3e5bbb6de66c949cfedeef387c3
size 2331
