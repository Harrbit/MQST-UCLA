version https://git-lfs.github.com/spec/v1
oid sha256:2ac7206b774c05a7a73fea23b9c479ade82ba9641b74689bf65ec8cb80bd4126
size 12874
