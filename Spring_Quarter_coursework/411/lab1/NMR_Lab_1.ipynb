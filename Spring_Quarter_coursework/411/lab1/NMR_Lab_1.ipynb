version https://git-lfs.github.com/spec/v1
oid sha256:042c573eb6c180824a396e1797ca9006c14d213e3e299ab785d1cbf8d434d869
size 470359
