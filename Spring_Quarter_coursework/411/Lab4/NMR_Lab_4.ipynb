version https://git-lfs.github.com/spec/v1
oid sha256:5f71813b24a6c6a0dcf4b5c66d45269500c27967d17ff75d2e95d5aadf7afdfa
size 9182
