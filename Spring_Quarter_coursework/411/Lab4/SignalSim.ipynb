version https://git-lfs.github.com/spec/v1
oid sha256:1b3caef242d9383ac9ff5dd8a06625948039b2df12d91ef527a51c22d9ea2cad
size 681428
