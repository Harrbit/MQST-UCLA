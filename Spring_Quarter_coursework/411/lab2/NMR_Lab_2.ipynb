version https://git-lfs.github.com/spec/v1
oid sha256:459dd2bf6ae5e24ff80d96368c0449a253ebfc45d8c64b74424023a591ad6cc2
size 278321
