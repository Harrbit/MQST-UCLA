version https://git-lfs.github.com/spec/v1
oid sha256:d38b32812cb2b2eafbb136106d97d8e41938c769c42ec2b3b10312633747e9a0
size 66176
