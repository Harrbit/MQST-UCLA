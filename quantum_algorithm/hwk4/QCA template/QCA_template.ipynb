version https://git-lfs.github.com/spec/v1
oid sha256:271390a5458c8a51ae6d89bb060c8220b51cd0043804175dd5bf730d7213d2b8
size 17980
