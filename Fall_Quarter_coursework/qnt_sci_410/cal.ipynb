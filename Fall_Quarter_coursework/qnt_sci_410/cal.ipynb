version https://git-lfs.github.com/spec/v1
oid sha256:10b357f74040effc1df8d195696ab745d1d21cb2f841a704338b7c9f52d2f9a8
size 1012
