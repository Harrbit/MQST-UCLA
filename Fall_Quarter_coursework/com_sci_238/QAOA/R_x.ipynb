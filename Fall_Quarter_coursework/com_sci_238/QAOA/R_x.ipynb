version https://git-lfs.github.com/spec/v1
oid sha256:fef06d39b4a3e60c3eee3b62855d1d02606ab09f5e0727e49dec0e2fedb662c7
size 146304
