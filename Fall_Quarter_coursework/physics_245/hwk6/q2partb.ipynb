version https://git-lfs.github.com/spec/v1
oid sha256:55f009a68f1c7e9c5532c8e1f7f21084d25b6075cfb08ee209d0b1b618b72ffe
size 27429
