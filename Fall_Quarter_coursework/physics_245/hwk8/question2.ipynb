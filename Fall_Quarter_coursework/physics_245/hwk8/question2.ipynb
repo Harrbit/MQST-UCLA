version https://git-lfs.github.com/spec/v1
oid sha256:59582dbb8ad1c81bd3d625b536527a9abf9d62787098678566dc63dff7a99cdb
size 5278
