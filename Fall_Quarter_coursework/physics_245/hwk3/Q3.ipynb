version https://git-lfs.github.com/spec/v1
oid sha256:3c45a08f259474dccbdb7ad3683db01937a7c1a9e1f3cb18c9d818ab659bb091
size 93117
