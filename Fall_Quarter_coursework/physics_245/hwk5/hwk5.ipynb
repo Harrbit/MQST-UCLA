version https://git-lfs.github.com/spec/v1
oid sha256:677caa5ccaf92b5c0009a885cc2e9203fe9e2d7165bde84f205f478fac94d4f3
size 588320
