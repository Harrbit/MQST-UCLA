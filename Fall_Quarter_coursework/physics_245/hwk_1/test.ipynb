version https://git-lfs.github.com/spec/v1
oid sha256:51e2eda93dc3eeb7b301c17b5f8345af301836bcaff995dc20b5b6707248c8f3
size 1161
